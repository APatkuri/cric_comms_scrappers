{
 "cells": [
  {
   "cell_type": "code",
   "execution_count": 1,
   "metadata": {},
   "outputs": [],
   "source": [
    "import requests\n",
    "import json\n",
    "import os\n",
    "import re\n",
    "import csv\n",
    "import time\n",
    "\n",
    "from urllib.request import urlopen\n",
    "from urllib.error import HTTPError\n",
    "from time import sleep\n",
    "from bs4 import BeautifulSoup"
   ]
  },
  {
   "cell_type": "code",
   "execution_count": 70,
   "metadata": {},
   "outputs": [],
   "source": [
    "# ESPN_IN_URL = \"https://site.web.api.espn.com/apis/site/v2/sports/cricket/1426547/playbyplay?contentorigin=espn&event=1426557&page=1&period=1\"\n",
    "\n",
    "# response = requests.get(ESPN_IN_URL, timeout=100)\n",
    "# data = response.json()\n",
    "# max_page_no = data['commentary']['pageCount']\n",
    "# os.makedirs(\"espn.in\", exist_ok=True)\n",
    "# with open(\"espn.in/1426557.json\", 'w') as f:\n",
    "#     json.dump(data, f, indent=4)\n",
    "# data"
   ]
  },
  {
   "cell_type": "code",
   "execution_count": 71,
   "metadata": {},
   "outputs": [],
   "source": [
    "# season_no = '2021'"
   ]
  },
  {
   "cell_type": "code",
   "execution_count": 72,
   "metadata": {},
   "outputs": [],
   "source": [
    "def get_soup_from_url(url):\n",
    "    # Helper to get response soup from url\n",
    "    sleep(1)\n",
    "    try:\n",
    "        html = urlopen(url).read()\n",
    "    except HTTPError:\n",
    "        print(\"Link Cannot be Reached\")\n",
    "        return -1\n",
    "    #soup = BeautifulSoup(html,\"lxml\")\n",
    "    soup = BeautifulSoup(html, \"html.parser\")\n",
    "    return soup\n"
   ]
  },
  {
   "cell_type": "code",
   "execution_count": 73,
   "metadata": {},
   "outputs": [],
   "source": [
    "def get_all_matchids_for_season(season, format):\n",
    "    #season = \"2018\"\n",
    "    #season = \"2018/19\"\n",
    "    season = season.replace('/', '%2F')\n",
    "    url = \"http://www.espncricinfo.com/ci/engine/series/index.html?season={};view=season\".format(season)\n",
    "    soup = get_soup_from_url(url)\n",
    "    d={}\n",
    "    for section in soup.find_all('div', class_='match-section-head'):\n",
    "        # print(section.text)\n",
    "        if(section.text == format):\n",
    "            \n",
    "            series_in_section = [series['data-series-id']\n",
    "                                for series in section.find_next(\n",
    "                                    'section',\n",
    "                                    class_='series-summary-wrap'\n",
    "                                ).find_all(\n",
    "                                    'section',\n",
    "                                    class_=\"series-summary-block collapsed\"\n",
    "                                )\n",
    "                                ]\n",
    "            series_in_section = [\n",
    "                get_soup_from_url('http://www.espncricinfo.com/ci/engine/match/index/series.html?series={}'.format(s)) \n",
    "                for s in series_in_section\n",
    "            ]\n",
    "            matches_in_section = [\n",
    "                re.findall('\\/([0-9]+)\\/', \n",
    "                        m.find('a')['href'])[1] \n",
    "                for ss in series_in_section \n",
    "                for m in ss.find_all(class_='match-no')\n",
    "            ]\n",
    "            d[section.text] = matches_in_section\n",
    "            \n",
    "    return d"
   ]
  },
  {
   "cell_type": "code",
   "execution_count": 74,
   "metadata": {},
   "outputs": [],
   "source": [
    "def match_id_list(season_no):\n",
    "    match_ids = []\n",
    "    match_ids = get_all_matchids_for_season(season_no, \"Tests\")\n",
    "    # match_ids['Tests']\n",
    "\n",
    "    season_str = season_no.replace(\"/\", \"_\")\n",
    "\n",
    "    os.makedirs(f\"./Tests\", exist_ok=True)\n",
    "    with open(f\"./Tests/{season_str}_mid.txt\", 'w') as f:\n",
    "        json.dump(match_ids, f)"
   ]
  },
  {
   "cell_type": "code",
   "execution_count": 75,
   "metadata": {},
   "outputs": [],
   "source": [
    "# Tests, One-Day Internationals, Twenty20 Internationals"
   ]
  },
  {
   "cell_type": "code",
   "execution_count": null,
   "metadata": {},
   "outputs": [],
   "source": [
    "start_year = 2005\n",
    "end_year = 2024\n",
    "\n",
    "for year in range(start_year, end_year + 1):\n",
    "    if year < end_year:\n",
    "        match_id_list(f\"{year}/{str(year + 1)[-2:]}\")\n",
    "    match_id_list(f\"{year}\")\n"
   ]
  },
  {
   "cell_type": "code",
   "execution_count": 37,
   "metadata": {},
   "outputs": [],
   "source": [
    "# season_str = season_no.replace(\"/\", \"_\")\n",
    "\n",
    "# with open(f\"./{season_str}_mid.txt\", 'w') as f:\n",
    "#     json.dump(match_ids, f)"
   ]
  },
  {
   "cell_type": "code",
   "execution_count": null,
   "metadata": {},
   "outputs": [],
   "source": [
    "folder_path = \"Tests\"\n",
    "\n",
    "# Use a set to keep only unique numbers\n",
    "unique_numbers = set()\n",
    "\n",
    "# Iterate through all files in the folder\n",
    "for filename in os.listdir(folder_path):\n",
    "    if filename.endswith(\".txt\"):\n",
    "        with open(os.path.join(folder_path, filename), 'r') as file:\n",
    "            # Load JSON content from the file\n",
    "            data = json.load(file)\n",
    "            # Extract numbers and add them to the set\n",
    "            unique_numbers.update(data.get(\"Tests\", []))\n",
    "\n",
    "# Sort the unique numbers in ascending order\n",
    "sorted_numbers = sorted(unique_numbers, key=int)\n",
    "\n",
    "# Write the combined data to a new file\n",
    "with open(\"all_tests.txt\", \"w\") as output_file:\n",
    "    for number in sorted_numbers:\n",
    "        output_file.write(number + \"\\n\")"
   ]
  },
  {
   "cell_type": "code",
   "execution_count": null,
   "metadata": {},
   "outputs": [],
   "source": []
  },
  {
   "cell_type": "code",
   "execution_count": null,
   "metadata": {},
   "outputs": [],
   "source": []
  },
  {
   "cell_type": "code",
   "execution_count": null,
   "metadata": {},
   "outputs": [],
   "source": []
  },
  {
   "cell_type": "code",
   "execution_count": null,
   "metadata": {},
   "outputs": [],
   "source": []
  },
  {
   "cell_type": "code",
   "execution_count": 85,
   "metadata": {},
   "outputs": [],
   "source": [
    "def get_series_id_from_match_id(match_id_list):\n",
    "\n",
    "    matchid_seriesid_set = set()\n",
    "    \n",
    "    for i in match_id_list:\n",
    "        original_url = f\"https://www.espncricinfo.com/matches/engine/match/{i}.html\"\n",
    "        \n",
    "        # Perform a HEAD request to get the redirected URL\n",
    "        response = requests.head(original_url, allow_redirects=True)\n",
    "        redirected_url = response.url\n",
    "        match = re.search(r'/series/.+?-(\\d+)/', redirected_url)\n",
    "\n",
    "        if match:\n",
    "            series_id = match.group(1)\n",
    "            matchid_seriesid_set.add((i, series_id))\n",
    "    \n",
    "    return matchid_seriesid_set\n",
    "            # print(series_id)"
   ]
  },
  {
   "cell_type": "code",
   "execution_count": 86,
   "metadata": {},
   "outputs": [],
   "source": [
    "# season_str = season_no.replace(\"/\", \"_\")\n",
    "# with open(f\"./Tests/{season_str}_mid.txt\", 'r') as f:\n",
    "#     match_ids = json.load(f)\n",
    "\n",
    "# match_ids_test = match_ids['Tests']\n",
    "# mid_sid = get_series_id_from_match_id(match_ids_test)\n",
    "# mid_sid = list(mid_sid)\n",
    "\n",
    "# os.makedirs(f\"./Tests\", exist_ok=True)\n",
    "# with open(f\"./Tests/{season_str}_mid_sid.txt\", 'w') as f:\n",
    "#     json.dump(mid_sid, f)"
   ]
  },
  {
   "cell_type": "code",
   "execution_count": 6,
   "metadata": {},
   "outputs": [],
   "source": [
    "# # season_str = season_no.replace(\"/\", \"_\")\n",
    "# match_ids = []\n",
    "# with open(\"all_tests.txt\", 'r') as f:\n",
    "#     match_ids = json.load(f)\n",
    "\n",
    "# print(match_ids)\n",
    "# break\n",
    "# # match_ids_test = match_ids['Tests']\n",
    "# mid_sid = get_series_id_from_match_id(match)\n",
    "# mid_sid = list(mid_sid)\n",
    "\n",
    "# os.makedirs(f\"./Tests\", exist_ok=True)\n",
    "# with open(f\"./Tests/{season_str}_mid_sid.txt\", 'w') as f:\n",
    "#     json.dump(mid_sid, f)"
   ]
  },
  {
   "cell_type": "code",
   "execution_count": null,
   "metadata": {},
   "outputs": [],
   "source": []
  },
  {
   "cell_type": "code",
   "execution_count": null,
   "metadata": {},
   "outputs": [],
   "source": []
  },
  {
   "cell_type": "code",
   "execution_count": null,
   "metadata": {},
   "outputs": [],
   "source": []
  },
  {
   "cell_type": "code",
   "execution_count": 27,
   "metadata": {},
   "outputs": [],
   "source": [
    "# match_id = 1426557\n",
    "\n",
    "def espn_in_comms_data(mid_sid_list):\n",
    "\n",
    "    for match_id, series_id in mid_sid_list:\n",
    "\n",
    "        # time.sleep(2)\n",
    "\n",
    "        match_data = []\n",
    "        for inn_no in range(1, 5):\n",
    "\n",
    "            ESPN_IN_URL = f\"https://site.web.api.espn.com/apis/site/v2/sports/cricket/{series_id}/playbyplay?contentorigin=espn&event={match_id}&page=1&period={inn_no}\"\n",
    "\n",
    "            response = requests.get(ESPN_IN_URL, timeout=100)\n",
    "            data = response.json()\n",
    "            max_page_no = data['commentary']['pageCount']\n",
    "\n",
    "            if(max_page_no != 0):\n",
    "                for page_no in range(1, max_page_no+1):\n",
    "\n",
    "                    try:\n",
    "                    # time.sleep(1)\n",
    "                        ESPN_IN_URL = f\"https://site.web.api.espn.com/apis/site/v2/sports/cricket/{series_id}/playbyplay?contentorigin=espn&event={match_id}&page={page_no}&period={inn_no}\"\n",
    "                        inn_response = requests.get(ESPN_IN_URL, timeout=100)\n",
    "                        inn_data = inn_response.json()\n",
    "                        match_data.append(inn_data['commentary']['items'])\n",
    "                        print(inn_no, page_no)\n",
    "                        \n",
    "                    except requests.exceptions.RequestException as e:\n",
    "                        continue\n",
    "\n",
    "        os.makedirs(f\"espn.in/{season_no}\", exist_ok=True)\n",
    "\n",
    "        with open(f\"espn.in/{season_no}/{match_id}.json\", 'w') as f:\n",
    "            json.dump(match_data, f, indent=4)\n"
   ]
  },
  {
   "cell_type": "code",
   "execution_count": null,
   "metadata": {},
   "outputs": [],
   "source": [
    "espn_in_comms_data(mid_sid)\n",
    "# mid_sid"
   ]
  },
  {
   "cell_type": "code",
   "execution_count": 19,
   "metadata": {},
   "outputs": [],
   "source": [
    "import pandas as pd\n",
    "\n",
    "init_df = pd.read_json(f\"espn.in/seasons/tests_{season_no}.json\")\n"
   ]
  },
  {
   "cell_type": "code",
   "execution_count": 20,
   "metadata": {},
   "outputs": [],
   "source": [
    "flattened_list = [item for row in init_df.itertuples(index=False) for item in row if item is not None]\n",
    "espn_in_df = pd.DataFrame(flattened_list)\n",
    "espn_in_df = espn_in_df.drop(columns=['id', 'clock', 'team', 'athletesInvolved','preText', 'text', 'postText', 'sequence', 'shortText', 'periodText', 'media', 'mediaId'])\n",
    "espn_in_df.insert(0, 'matchID', match_id)"
   ]
  },
  {
   "cell_type": "code",
   "execution_count": 21,
   "metadata": {},
   "outputs": [],
   "source": [
    "espn_in_df_new = pd.concat([espn_in_df.drop(\"playType\", axis=1), espn_in_df[\"playType\"].apply(pd.Series).add_prefix('playType_')], axis=1)\n",
    "\n",
    "espn_in_df_new = pd.concat([espn_in_df_new.drop(\"bowler\", axis=1), espn_in_df_new[\"bowler\"].apply(pd.Series).add_prefix('bowler_')], axis=1)\n",
    "espn_in_df_new = pd.concat([espn_in_df_new.drop(\"batsman\", axis=1), espn_in_df_new[\"batsman\"].apply(pd.Series).add_prefix('batsman_')], axis=1)\n",
    "espn_in_df_new = pd.concat([espn_in_df_new.drop(\"otherBatsman\", axis=1), espn_in_df_new[\"otherBatsman\"].apply(pd.Series).add_prefix('otherbatsman_')], axis=1)\n",
    "espn_in_df_new = pd.concat([espn_in_df_new.drop(\"otherBowler\", axis=1), espn_in_df_new[\"otherBowler\"].apply(pd.Series).add_prefix('otherbowler_')], axis=1)\n",
    "\n",
    "espn_in_df_new = pd.concat([espn_in_df_new.drop(\"over\", axis=1), espn_in_df_new[\"over\"].apply(pd.Series).add_prefix('over_')], axis=1)\n",
    "espn_in_df_new = pd.concat([espn_in_df_new.drop(\"innings\", axis=1), espn_in_df_new[\"innings\"].apply(pd.Series).add_prefix('inns_')], axis=1)\n",
    "espn_in_df_new = pd.concat([espn_in_df_new.drop(\"dismissal\", axis=1), espn_in_df_new[\"dismissal\"].apply(pd.Series).add_prefix('dismissal_')], axis=1)\n",
    "\n",
    "espn_in_df_new['date'] = pd.to_datetime(espn_in_df_new['date'], format='%Y-%m-%dT%H:%MZ')\n",
    "espn_in_df_new['match_date'] = espn_in_df_new['date'].dt.date\n",
    "espn_in_df_new['match_year'] = espn_in_df_new['date'].dt.year"
   ]
  },
  {
   "cell_type": "code",
   "execution_count": null,
   "metadata": {},
   "outputs": [],
   "source": [
    "espn_in_df"
   ]
  },
  {
   "cell_type": "code",
   "execution_count": null,
   "metadata": {},
   "outputs": [],
   "source": [
    "espn_in_df_new = espn_in_df_new.drop(columns=['date'])\n",
    "espn_in_df_new.columns"
   ]
  },
  {
   "cell_type": "code",
   "execution_count": 24,
   "metadata": {},
   "outputs": [],
   "source": [
    "espn_in_df_new['bowler_team'] = espn_in_df_new['bowler_team'].apply(lambda x: x['name'] if isinstance(x, dict) else x)\n",
    "espn_in_df_new['batsman_team'] = espn_in_df_new['batsman_team'].apply(lambda x: x['name'] if isinstance(x, dict) else x)\n",
    "espn_in_df_new['otherbatsman_team'] = espn_in_df_new['otherbatsman_team'].apply(lambda x: x['name'] if isinstance(x, dict) else x)\n",
    "espn_in_df_new['otherbowler_team'] = espn_in_df_new['otherbowler_team'].apply(lambda x: x['name'] if isinstance(x, dict) else x)\n",
    "\n",
    "espn_in_df_new = pd.concat([espn_in_df_new.drop(\"bowler_athlete\", axis=1), espn_in_df_new[\"bowler_athlete\"].apply(pd.Series).add_prefix('bowler_athlete_')], axis=1)\n",
    "espn_in_df_new = pd.concat([espn_in_df_new.drop(\"batsman_athlete\", axis=1), espn_in_df_new[\"batsman_athlete\"].apply(pd.Series).add_prefix('batsman_athlete_')], axis=1)\n",
    "espn_in_df_new = pd.concat([espn_in_df_new.drop(\"otherbatsman_athlete\", axis=1), espn_in_df_new[\"otherbatsman_athlete\"].apply(pd.Series).add_prefix('otherbatsman_athlete_')], axis=1)\n",
    "espn_in_df_new = pd.concat([espn_in_df_new.drop(\"otherbowler_athlete\", axis=1), espn_in_df_new[\"otherbowler_athlete\"].apply(pd.Series).add_prefix('otherbowler_athlete_')], axis=1)\n",
    "\n",
    "# espn_in_df_new = pd.concat([espn_in_df_new.drop(\"dismissal_batsman\", axis=1), espn_in_df_new[\"dismissal_batsman\"].apply(pd.Series).add_prefix('dismissal_batsman_')], axis=1)\n",
    "espn_in_df_new = pd.concat([espn_in_df_new.drop(\"dismissal_fielder\", axis=1), espn_in_df_new[\"dismissal_fielder\"].apply(pd.Series).add_prefix('dismissal_fielder_')], axis=1)\n",
    "espn_in_df_new = pd.concat([espn_in_df_new.drop(\"dismissal_fielder_athlete\", axis=1), espn_in_df_new[\"dismissal_fielder_athlete\"].apply(pd.Series).add_prefix('dismissal_fielder_athlete_')], axis=1)\n"
   ]
  },
  {
   "cell_type": "code",
   "execution_count": 25,
   "metadata": {},
   "outputs": [],
   "source": [
    "espn_in_df_new = espn_in_df_new.drop(columns=['bowler_athlete_shortName', 'bowler_athlete_fullName', 'bowler_athlete_displayName',\n",
    "                                            'otherbowler_athlete_shortName', 'otherbowler_athlete_fullName', 'otherbowler_athlete_displayName',\n",
    "                                            'batsman_athlete_shortName', 'batsman_athlete_fullName', 'batsman_athlete_displayName',\n",
    "                                            'otherbatsman_athlete_shortName', 'otherbatsman_athlete_fullName', 'otherbatsman_athlete_displayName',\n",
    "                                            'dismissal_fielder_athlete_shortName', 'dismissal_fielder_athlete_fullName', 'dismissal_fielder_athlete_displayName',\n",
    "                                            'dismissal_fielder_0', 'dismissal_fielder_athlete_0', 'dismissal_batsman', 'dismissal_bowler', 'dismissal_text',\n",
    "                                            'over_balls', 'over_limit', 'over_actual', 'over_overs', 'inns_id', 'inns_number', 'inns_remainingBalls', 'inns_ballLimit',\n",
    "                                            'dismissal_retiredText'])"
   ]
  },
  {
   "cell_type": "code",
   "execution_count": null,
   "metadata": {},
   "outputs": [],
   "source": [
    "espn_in_df_new.columns"
   ]
  },
  {
   "cell_type": "code",
   "execution_count": 27,
   "metadata": {},
   "outputs": [],
   "source": [
    "espn_in_df_new.columns = ['matchID', 'innings', 'homeScore', 'awayScore', 'totalruns',\n",
    "       'bbbTimestamp', 'playType_id', 'playType_outcome', \n",
    "\n",
    "       'curr_bowl_team','curr_bowl_maidens', 'curr_bowl_balls', 'curr_bowl_wickets', 'curr_bowl_overs','curr_bowl_conceded', \n",
    "       'curr_bat_team', 'curr_bat_runs', 'curr_bat_bf','curr_bat_fours', 'curr_bat_runs', 'curr_bat_sixes', \n",
    "       'curr_non_bat_team','curr_non_bat_runs', 'curr_non_bat_bf', 'curr_non_bat_fours','curr_non_bat_runs', 'curr_non_bat_sixes', \n",
    "       'curr_non_bowl_team','curr_non_bowl_maidens', 'curr_non_bowl_balls', 'curr_non_bowl_wickets','curr_non_bowl_overs', 'curr_non_bowl_conceded',\n",
    "         \n",
    "       'over_ball', 'over_complete', 'over_maiden', 'over_noBall',\n",
    "       'over_wide', 'over_legByes', 'over_byes', 'over_number', 'over_runs',\n",
    "       'over_wickets','over_unique',\n",
    "\n",
    "       'inns_runRate', 'inns_byes',\n",
    "       'inns_balls', 'inns_noBalls', 'inns_wickets', 'inns_legByes',\n",
    "       'inns_target', 'inns_session', 'inns_day',\n",
    "       'inns_fallOfWickets', 'inns_trailBy', 'inns_leadBy',\n",
    "       'inns_remainingOvers', 'inns_totalRuns', 'inns_wides', 'inns_runs',\n",
    "\n",
    "       'is_dismissal', 'is_bowled', 'dismissal_type',\n",
    "       'dismissal_minutes', 'match_date', 'match_year',\n",
    "\n",
    "       'curr_bowl_id', 'curr_bowl_name', 'curr_bat_id',\n",
    "       'curr_bat_name', 'curr_non_bat_id',\n",
    "       'curr_non_bat_name', 'curr_non_bowl_id',\n",
    "       'curr_non_bowl_name', 'dismissal_isKeeper',\n",
    "       'dismissal_fielder_id', 'dismissal_fielder_name']"
   ]
  },
  {
   "cell_type": "code",
   "execution_count": 28,
   "metadata": {},
   "outputs": [],
   "source": [
    "espn_in_df_new = espn_in_df_new[[\n",
    "        'matchID', 'innings', 'homeScore', 'awayScore', 'totalruns','bbbTimestamp', 'playType_id', 'playType_outcome', \n",
    "\n",
    "       'curr_bat_id', 'curr_bat_name','curr_bat_team', 'curr_bat_runs', 'curr_bat_bf','curr_bat_fours', 'curr_bat_runs', 'curr_bat_sixes', \n",
    "       'curr_non_bat_id','curr_non_bat_name', 'curr_non_bat_team','curr_non_bat_runs', 'curr_non_bat_bf', 'curr_non_bat_fours','curr_non_bat_runs', 'curr_non_bat_sixes', \n",
    "\n",
    "       'curr_bowl_id', 'curr_bowl_name', 'curr_bowl_team','curr_bowl_maidens', 'curr_bowl_balls', 'curr_bowl_wickets', 'curr_bowl_overs','curr_bowl_conceded',\n",
    "       'curr_non_bowl_id', 'curr_non_bowl_name', 'curr_non_bowl_team','curr_non_bowl_maidens', 'curr_non_bowl_balls', 'curr_non_bowl_wickets','curr_non_bowl_overs', 'curr_non_bowl_conceded',\n",
    "         \n",
    "       'over_ball', 'over_complete', 'over_maiden', 'over_noBall',\n",
    "       'over_wide', 'over_legByes', 'over_byes', 'over_number', 'over_runs',\n",
    "       'over_wickets', 'over_unique',\n",
    "\n",
    "       'inns_runRate', 'inns_byes',\n",
    "       'inns_balls', 'inns_noBalls', 'inns_wickets', 'inns_legByes',\n",
    "       'inns_target', 'inns_session', 'inns_day',\n",
    "       'inns_fallOfWickets', 'inns_trailBy', 'inns_leadBy',\n",
    "       'inns_remainingOvers', 'inns_totalRuns', 'inns_wides', 'inns_runs',\n",
    "\n",
    "       'is_dismissal', 'is_bowled', 'dismissal_isKeeper', 'dismissal_type', 'dismissal_fielder_id', 'dismissal_fielder_name','dismissal_minutes', \n",
    "       'match_date', 'match_year']]"
   ]
  },
  {
   "cell_type": "code",
   "execution_count": 29,
   "metadata": {},
   "outputs": [],
   "source": [
    "espn_in_df_new['curr_bowl_overs'] = espn_in_df_new['curr_bowl_overs'].round(1)\n",
    "espn_in_df_new['curr_non_bowl_overs'] = espn_in_df_new['curr_non_bowl_overs'].round(1)\n",
    "espn_in_df_new['inns_runRate'] = espn_in_df_new['inns_runRate'].round(2)"
   ]
  },
  {
   "cell_type": "code",
   "execution_count": 30,
   "metadata": {},
   "outputs": [],
   "source": [
    "espn_in_df_new.to_csv(f\"./espn.in/{match_id}.csv\", index=False)"
   ]
  }
 ],
 "metadata": {
  "kernelspec": {
   "display_name": "Python 3",
   "language": "python",
   "name": "python3"
  },
  "language_info": {
   "codemirror_mode": {
    "name": "ipython",
    "version": 3
   },
   "file_extension": ".py",
   "mimetype": "text/x-python",
   "name": "python",
   "nbconvert_exporter": "python",
   "pygments_lexer": "ipython3",
   "version": "3.10.12"
  }
 },
 "nbformat": 4,
 "nbformat_minor": 2
}
